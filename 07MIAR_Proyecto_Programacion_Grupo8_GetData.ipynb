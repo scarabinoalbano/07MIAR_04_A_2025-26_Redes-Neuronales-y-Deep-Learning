{
  "nbformat": 4,
  "nbformat_minor": 0,
  "metadata": {
    "colab": {
      "provenance": [],
      "authorship_tag": "ABX9TyMkN7dHanGmtr3DVo1lBGtE",
      "include_colab_link": true
    },
    "kernelspec": {
      "name": "python3",
      "display_name": "Python 3"
    },
    "language_info": {
      "name": "python"
    }
  },
  "cells": [
    {
      "cell_type": "markdown",
      "metadata": {
        "id": "view-in-github",
        "colab_type": "text"
      },
      "source": [
        "<a href=\"https://colab.research.google.com/github/scarabinoalbano/07MIAR_04_A_2025-26_Redes-Neuronales-y-Deep-Learning/blob/main/07MIAR_Proyecto_Programacion_Grupo8_GetData.ipynb\" target=\"_parent\"><img src=\"https://colab.research.google.com/assets/colab-badge.svg\" alt=\"Open In Colab\"/></a>"
      ]
    },
    {
      "cell_type": "code",
      "execution_count": null,
      "metadata": {
        "colab": {
          "base_uri": "https://localhost:8080/"
        },
        "id": "wkqY65VEt4U9",
        "outputId": "c383c2ea-c2f8-4e9a-8c5f-ad2bd7c8a44c"
      },
      "outputs": [
        {
          "output_type": "stream",
          "name": "stdout",
          "text": [
            "Collecting kaggle\n",
            "  Downloading kaggle-1.7.4.5-py3-none-any.whl.metadata (16 kB)\n",
            "Downloading kaggle-1.7.4.5-py3-none-any.whl (181 kB)\n",
            "\u001b[?25l   \u001b[90m━━━━━━━━━━━━━━━━━━━━━━━━━━━━━━━━━━━━━━━━\u001b[0m \u001b[32m0.0/181.2 kB\u001b[0m \u001b[31m?\u001b[0m eta \u001b[36m-:--:--\u001b[0m\r\u001b[2K   \u001b[90m━━━━━━━━━━━━━━━━━━━━━━━━━━━━━━━━━━━━━━━━\u001b[0m \u001b[32m181.2/181.2 kB\u001b[0m \u001b[31m6.4 MB/s\u001b[0m eta \u001b[36m0:00:00\u001b[0m\n",
            "\u001b[?25hInstalling collected packages: kaggle\n",
            "  Attempting uninstall: kaggle\n",
            "    Found existing installation: kaggle 1.7.4.5\n",
            "    Uninstalling kaggle-1.7.4.5:\n",
            "      Successfully uninstalled kaggle-1.7.4.5\n",
            "Successfully installed kaggle-1.7.4.5\n"
          ]
        }
      ],
      "source": [
        "# Nos aseguramos que tenemos instalada la última versión de la API de Kaggle en Colab\n",
        "!pip install --upgrade --force-reinstall --no-deps kaggle"
      ]
    },
    {
      "cell_type": "code",
      "source": [
        "# Conectamos con nuestro Google Drive\n",
        "from google.colab import drive\n",
        "import os\n",
        "\n",
        "drive.mount('/content/drive')\n",
        "base_dir = '/content/drive/MyDrive/Colab Notebooks/07MIAR_Proyecto_Programacion_Grupo8'\n",
        "api_token = os.path.join(base_dir, 'kaggle.json')\n",
        "zip_file = os.path.join(base_dir, 'plant-seedlings-classification.zip')\n",
        "output_dir = os.path.join(base_dir, 'my_dataset')"
      ],
      "metadata": {
        "colab": {
          "base_uri": "https://localhost:8080/"
        },
        "id": "O7-PqavwvLn7",
        "outputId": "c5f3c2a0-edd9-4212-bac2-17ccf17a5297"
      },
      "execution_count": null,
      "outputs": [
        {
          "output_type": "stream",
          "name": "stdout",
          "text": [
            "Drive already mounted at /content/drive; to attempt to forcibly remount, call drive.mount(\"/content/drive\", force_remount=True).\n"
          ]
        }
      ]
    },
    {
      "cell_type": "code",
      "source": [
        "import shutil\n",
        "\n",
        "# Crear directorio .kaggle en el home\n",
        "kaggle_dir = os.path.expanduser('~/.kaggle')\n",
        "os.makedirs(kaggle_dir, exist_ok=True)\n",
        "\n",
        "# Copiar el archivo de Drive a la ubicación esperada por Kaggle\n",
        "shutil.copy(api_token, os.path.join(kaggle_dir, 'kaggle.json'))\n",
        "\n",
        "# Establecer permisos correctos (requerido por Kaggle)\n",
        "os.chmod(os.path.join(kaggle_dir, 'kaggle.json'), 0o600)"
      ],
      "metadata": {
        "id": "8fsLXE7yuQDf"
      },
      "execution_count": null,
      "outputs": []
    },
    {
      "cell_type": "code",
      "source": [
        "# Ya podemos listar los datasets disponibles en kaggle para su descarga\n",
        "!kaggle datasets list"
      ],
      "metadata": {
        "id": "64moy3equUIl",
        "colab": {
          "base_uri": "https://localhost:8080/"
        },
        "outputId": "19ccf497-8aed-436b-fdbb-a61ee9e56e95"
      },
      "execution_count": null,
      "outputs": [
        {
          "output_type": "stream",
          "name": "stdout",
          "text": [
            "ref                                                           title                                                    size  lastUpdated                 downloadCount  voteCount  usabilityRating  \n",
            "------------------------------------------------------------  -------------------------------------------------  ----------  --------------------------  -------------  ---------  ---------------  \n",
            "ahmeduzaki/global-earthquake-tsunami-risk-assessment-dataset  Global Earthquake-Tsunami Risk Assessment Dataset       16151  2025-10-01 16:35:53.273000           7307        281  1.0              \n",
            "jaderz/hospital-beds-management                               Hospital Beds Management                                47583  2025-10-03 09:21:58.590000           5941        165  1.0              \n",
            "ahmadrazakashif/bmw-worldwide-sales-records-20102024          BMW Worldwide Sales Records (2010–2024)                853348  2025-09-20 14:39:45.280000          12107        265  1.0              \n",
            "grandmaster07/student-exam-score-dataset-analysis             Student exam score dataset analysis                      2430  2025-09-26 07:44:12.677000           5802        119  1.0              \n",
            "anassarfraz13/student-success-factors-and-insights            Student Success: Factors & Insights                     96178  2025-09-24 07:58:55.117000           4598         88  1.0              \n",
            "afnansaifafnan/study-habits-and-activities-of-students        Study Habits and Activities of Students                 22153  2025-10-04 09:09:48.013000            971         24  1.0              \n",
            "asadullahcreative/world-population-by-country-2025            🌍 World Population by Country 2025 (Latest)              9275  2025-10-15 21:38:51.047000            874         24  1.0              \n",
            "rehan497/health-lifestyle-dataset                             Health Lifestyle Dataset                              2204934  2025-10-04 08:55:55.723000           2383         31  1.0              \n",
            "mohankrishnathalla/medical-insurance-cost-prediction          Medical Insurance Cost Prediction                     5897923  2025-10-10 15:35:01.663000           1634         43  1.0              \n",
            "ahmadrazakashif/shopping-behavior-dataset                     Shopping_Behavior_Dataset                               72157  2025-10-08 16:19:06.293000           1107         21  1.0              \n",
            "amangarg08/apple-retail-sales-dataset                         Apple_Retail_Sales_Dataset                           13514783  2025-09-28 16:37:10.187000           1281         22  0.88235295       \n",
            "raghavdharwal/amazon-ml-challenge-2025                        Amazon ML Challenge 2025                             49977798  2025-10-11 01:51:41.403000           1099         30  1.0              \n",
            "anassarfraz13/coffee-sales-dataset                            Coffee Sales Dataset                                    38970  2025-09-23 09:50:57.187000           3871         80  1.0              \n",
            "grandmaster07/student-stress-levels-dataset                   Student Stress Levels Dataset Analysis                    864  2025-09-25 10:19:53.697000            852         24  1.0              \n",
            "mohankrishnathalla/diabetes-health-indicators-dataset         Diabetes Health Indicators Dataset                    3927348  2025-09-21 16:47:53.203000           4299         63  1.0              \n",
            "emanfatima2025/youtube-music-hits-top-100-of-2025             YouTube Music Hits: Top 100 of 2025                     78598  2025-09-28 16:33:54.697000           1769         35  1.0              \n",
            "saadaliyaseen/analyzing-student-academic-trends               Analyzing Student Academic Trends                        2430  2025-09-10 15:19:31.970000           9928        212  1.0              \n",
            "sidraaazam/coffee-sales-insights-report                       Coffee Sales Insights Report                            38970  2025-09-23 09:34:48.793000           1181         30  1.0              \n",
            "dansbecker/melbourne-housing-snapshot                         Melbourne Housing Snapshot                             461423  2018-06-05 12:52:24.087000         195222       1680  0.7058824        \n",
            "tarekmasryo/cancer-risk-factors-dataset                       Cancer Risk Factors Dataset                             46782  2025-10-06 14:12:39.363000           1330         41  1.0              \n"
          ]
        }
      ]
    },
    {
      "cell_type": "code",
      "source": [
        "# Descargar el dataset\n",
        "!kaggle competitions download -c plant-seedlings-classification\n",
        "\n",
        "# Mover a Drive\n",
        "!mv /content/plant-seedlings-classification.zip /content/drive/MyDrive/Colab\\ Notebooks/07MIAR_Proyecto_Programacion_Grupo8/"
      ],
      "metadata": {
        "colab": {
          "base_uri": "https://localhost:8080/"
        },
        "id": "meXgMfR-yVJF",
        "outputId": "e47dc464-72e8-47f0-ff2a-e0d317c1eb6e"
      },
      "execution_count": null,
      "outputs": [
        {
          "output_type": "stream",
          "name": "stdout",
          "text": [
            "Downloading plant-seedlings-classification.zip to /content\n",
            " 99% 1.67G/1.69G [00:18<00:00, 254MB/s]\n",
            "100% 1.69G/1.69G [00:18<00:00, 96.7MB/s]\n"
          ]
        }
      ]
    },
    {
      "cell_type": "code",
      "source": [
        "import zipfile\n",
        "\n",
        "# Crear directorio destino\n",
        "os.makedirs(output_dir, exist_ok=True)\n",
        "\n",
        "# Descomprimir\n",
        "with zipfile.ZipFile(zip_file, 'r') as zip_ref:\n",
        "    zip_ref.extractall(output_dir)\n",
        "\n",
        "print(f\"Archivos descomprimidos en: {output_dir}\")\n",
        "print(f\"\\nContenido:\")\n",
        "for item in os.listdir(output_dir):\n",
        "    print(f\"  - {item}\")\n"
      ],
      "metadata": {
        "colab": {
          "base_uri": "https://localhost:8080/"
        },
        "id": "XdYIcVqpzWbX",
        "outputId": "5ca6db02-5fa2-406b-af31-fb79bbddd198"
      },
      "execution_count": null,
      "outputs": [
        {
          "output_type": "stream",
          "name": "stdout",
          "text": [
            "Archivos descomprimidos en: /content/drive/MyDrive/Colab Notebooks/07MIAR_Proyecto_Programacion_Grupo8/my_dataset\n",
            "\n",
            "Contenido:\n",
            "  - sample_submission.csv\n",
            "  - test\n",
            "  - train\n"
          ]
        }
      ]
    },
    {
      "cell_type": "code",
      "source": [],
      "metadata": {
        "id": "wZePMUG7z-JA"
      },
      "execution_count": null,
      "outputs": []
    }
  ]
}